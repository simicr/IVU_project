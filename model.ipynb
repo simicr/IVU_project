{
  "nbformat": 4,
  "nbformat_minor": 0,
  "metadata": {
    "colab": {
      "provenance": [],
      "gpuType": "T4"
    },
    "kernelspec": {
      "name": "python3",
      "display_name": "Python 3"
    },
    "language_info": {
      "name": "python"
    },
    "accelerator": "GPU"
  },
  "cells": [
    {
      "cell_type": "code",
      "execution_count": null,
      "metadata": {
        "id": "5fgiezU6WUO9"
      },
      "outputs": [],
      "source": [
        "import os\n",
        "import torch\n",
        "import torch.nn as nn\n",
        "import torch.optim as optim\n",
        "import matplotlib.pyplot as plt\n",
        "from torch.utils.data import DataLoader, random_split\n",
        "from torchvision import models, transforms, datasets\n",
        "from sklearn.metrics import confusion_matrix"
      ]
    },
    {
      "cell_type": "code",
      "source": [
        "from google.colab import drive\n",
        "drive.mount('/content/drive')"
      ],
      "metadata": {
        "id": "znRF1jQh7G5n",
        "colab": {
          "base_uri": "https://localhost:8080/"
        },
        "outputId": "fd78e9b0-7ecf-4bd8-870d-862884b84997"
      },
      "execution_count": null,
      "outputs": [
        {
          "output_type": "stream",
          "name": "stdout",
          "text": [
            "Mounted at /content/drive\n"
          ]
        }
      ]
    },
    {
      "cell_type": "code",
      "source": [
        "torch.manual_seed(42)\n",
        "\n",
        "def train(train_loader, val_loader):\n",
        "\n",
        "    loss_log = []\n",
        "    accuracy_log = []\n",
        "    val_loss_log = []\n",
        "    val_acc_log = []\n",
        "\n",
        "    print('Training started:')\n",
        "    for epoch in range(num_epochs):\n",
        "        correct_predictions = 0\n",
        "        total_loss = 0\n",
        "        for inputs, labels in train_loader:\n",
        "            inputs, labels = inputs.to(device), labels.to(device)\n",
        "\n",
        "            optimizer.zero_grad()\n",
        "            outputs = model(inputs)\n",
        "            loss = criterion(outputs, labels)\n",
        "            loss.backward()\n",
        "            optimizer.step()\n",
        "\n",
        "            predicted = torch.argmax(outputs, 1)\n",
        "            correct_predictions += (predicted == labels).sum().item()\n",
        "            total_loss += loss.item()\n",
        "\n",
        "\n",
        "        accuracy = correct_predictions / (len(train_loader)*train_loader.batch_size)\n",
        "        loss = total_loss/ len(train_loader)\n",
        "\n",
        "        if val_loader:\n",
        "            vl, va = test(val_loader)\n",
        "            val_loss_log.append(vl)\n",
        "            val_acc_log.append(va)\n",
        "        else:\n",
        "            vl, va = 0, 0\n",
        "\n",
        "        accuracy_log.append(accuracy)\n",
        "        loss_log.append(loss)\n",
        "        print(f'\\tEpoch [{epoch + 1}/{num_epochs}] -> Loss: {loss:.2f}, Accuracy: {accuracy*100:.2f}% | Validation -> Loss: {vl:.2f}, Accuracy: {va*100:.2f}%')\n",
        "\n",
        "    print('Training ended.')\n",
        "    return loss_log, accuracy_log, val_loss_log, val_acc_log\n",
        "\n",
        "def test(test_loader, pm=False, confusion_mat=False):\n",
        "    model.eval()\n",
        "    test_loss = 0.0\n",
        "    correct_predictions = 0\n",
        "    total_samples = 0\n",
        "    y_labels = torch.tensor([])\n",
        "    y_predictions = torch.tensor([])\n",
        "    y_labels, y_predictions = y_labels.to(device), y_predictions.to(device)\n",
        "\n",
        "    with torch.no_grad():\n",
        "      for inputs, labels in test_loader:\n",
        "            inputs, labels = inputs.to(device), labels.to(device)\n",
        "            outputs = model(inputs)\n",
        "            loss = criterion(outputs, labels)\n",
        "            test_loss += loss.item()\n",
        "            predicted = torch.argmax(outputs, 1)\n",
        "            if confusion_mat:\n",
        "                y_predictions = torch.concat( [y_predictions, predicted], dim=0)\n",
        "                y_labels = torch.concat([y_labels, labels], dim=0)\n",
        "\n",
        "            correct_predictions += (predicted == labels).sum().item()\n",
        "            total_samples += labels.size(0)\n",
        "\n",
        "\n",
        "    accuracy = correct_predictions / total_samples\n",
        "    test_loss /= len(test_loader)\n",
        "    if pm:\n",
        "        print(f'Test Loss: {test_loss:.4f}, Accuracy: {accuracy * 100:.2f}%')\n",
        "\n",
        "    if not confusion_mat:\n",
        "      return test_loss, accuracy\n",
        "    cm = confusion_matrix(y_true=y_labels.cpu(), y_pred=y_predictions.cpu())\n",
        "    return test_loss, accuracy, cm\n",
        "\n",
        "def plot_train(loss, acc, vloss, vacc):\n",
        "    if not vloss:\n",
        "        vloss = [0]\n",
        "        vacc = [0]\n",
        "    _, axs = plt.subplots(2, 1, figsize=(8, 8))\n",
        "    axs[0].plot(loss, label='Loss', marker='o', color='orange')\n",
        "    axs[1].plot(acc, label='Accuracy', marker='x', color='blue')\n",
        "    axs[0].plot(vloss, label='Validation Loss', marker='s', color='green')\n",
        "    axs[1].plot(vacc, label='Validation Accuracy', marker='^', color='red')\n",
        "    axs[0].legend()\n",
        "    axs[1].legend()\n",
        "    axs[0].set_xlabel('Epoch')\n",
        "    axs[1].set_xlabel('Epoch')\n",
        "    axs[0].set_ylabel('Loss')\n",
        "    axs[1].set_ylabel('Accuracy')\n",
        "    text_box = f'Final values:\\nLoss: {loss[-1]:.4f}\\nAccuracy: {acc[-1]:.4f}\\nValidation Loss: {vloss[-1]:.4f}\\nValidation Accuracy: {vacc[-1]:.4f}'\n",
        "    text_box2  = f'Best Validation Accuracy: {max(vacc):.4f}\\nAt epoch: {vacc.index(max(vacc)) + 1}\\nWith Loss: {vloss[vacc.index(max(vacc))]:.4f} '\n",
        "    plt.text(0, -1, text_box, transform=axs[1].transAxes, fontsize=10, bbox=dict(facecolor='white', alpha=0.5))\n",
        "    plt.text(0.5, -1, text_box2, transform=axs[1].transAxes, fontsize=10, bbox=dict(facecolor='white', alpha=0.5))\n",
        "    plt.tight_layout()\n",
        "    plt.savefig('Training.jpg')\n",
        "\n",
        "def plot_test(loss, acc, cm):\n",
        "    letters = ['A', 'B', 'C', 'D', 'E', 'F', 'G', 'H', 'I', 'J', 'K', 'L', 'M', 'N', 'O', 'P', 'Q', 'R', 'S', 'T', 'U', 'V', 'W', 'X', 'Y', 'Z']\n",
        "    _, ax = plt.subplots(figsize=(8, 6))\n",
        "    cax = ax.matshow(cm, cmap=plt.cm.Blues)\n",
        "    plt.colorbar(cax, ax=ax)\n",
        "    ax.set_xlabel('Predicted')\n",
        "    ax.set_ylabel('Actual')\n",
        "    ax.set_xticks(range(num_classes))\n",
        "    ax.set_yticks(range(num_classes))\n",
        "    ax.set_xticklabels(letters)\n",
        "    ax.set_yticklabels(letters)\n",
        "    ax.set_title('Confusion Matrix')\n",
        "    info_text = f\"Loss: {loss:.2f}\\nAccuracy: {acc:.2%}\"\n",
        "    ax.text(1.3, 0.5, info_text, transform=ax.transAxes, fontsize=12, verticalalignment='center')\n",
        "    plt.subplots_adjust(right=0.75)\n",
        "    plt.savefig('Testing.jpg')\n",
        "\n",
        "\n",
        "\n",
        "\n",
        "def define_model():\n",
        "    model = models.resnet18(weights=models.ResNet18_Weights.DEFAULT)\n",
        "    for param in model.parameters():\n",
        "      param.requires_grad = False\n",
        "\n",
        "    inparm = model.fc.in_features\n",
        "    model.fc = nn.Linear(inparm, num_classes)\n",
        "\n",
        "    return model\n",
        "\n",
        "transform = transforms.Compose([\n",
        "    transforms.Resize((224, 224)),\n",
        "    transforms.ToTensor(),\n",
        "    transforms.Normalize(mean=[0, 0, 0], std=[255,255,255])\n",
        "])\n"
      ],
      "metadata": {
        "id": "WOTqwtg47DLU"
      },
      "execution_count": null,
      "outputs": []
    },
    {
      "cell_type": "code",
      "source": [
        "on_colab = True\n",
        "if not on_colab:\n",
        "  root = os.getcwd()\n",
        "  train_dir = os.path.join(root, 'train')\n",
        "  val_dir = os.path.join(root, 'val')\n",
        "  test_dir = os.path.join(root, 'test')\n",
        "  save_path = os.path.join(os.getcwd(), 'asl_model.pth')\n",
        "\n",
        "else:\n",
        "  train_dir = '/content/drive/MyDrive/train'\n",
        "  val_dir = '/content/drive/MyDrive/val'\n",
        "  test_dir = '/content/drive/MyDrive/test'\n",
        "  save_path = 'asl_model.pth'\n",
        "\n",
        "\n",
        "learn_rate = 0.001\n",
        "num_epochs = 5\n",
        "batch_size = 32\n",
        "num_classes = 26\n",
        "model = define_model()\n",
        "criterion = nn.CrossEntropyLoss()\n",
        "optimizer = optim.Adam(model.parameters(), lr=learn_rate)\n",
        "device = torch.device('cuda' if torch.cuda.is_available() else 'cpu')\n",
        "\n",
        "model.to(device)\n",
        "criterion.to(device)\n"
      ],
      "metadata": {
        "id": "t8AX1Gqh7awn",
        "colab": {
          "base_uri": "https://localhost:8080/"
        },
        "outputId": "5a12d1cc-5c42-4c60-a327-792668d812e9"
      },
      "execution_count": null,
      "outputs": [
        {
          "output_type": "stream",
          "name": "stderr",
          "text": [
            "Downloading: \"https://download.pytorch.org/models/resnet18-f37072fd.pth\" to /root/.cache/torch/hub/checkpoints/resnet18-f37072fd.pth\n",
            "100%|██████████| 44.7M/44.7M [00:00<00:00, 162MB/s]\n"
          ]
        },
        {
          "output_type": "execute_result",
          "data": {
            "text/plain": [
              "CrossEntropyLoss()"
            ]
          },
          "metadata": {},
          "execution_count": 49
        }
      ]
    },
    {
      "cell_type": "code",
      "source": [
        "trainset = datasets.ImageFolder(root=train_dir, transform=transform)\n",
        "valset = datasets.ImageFolder(root=val_dir, transform=transform)\n",
        "train_loader = DataLoader(trainset, batch_size=batch_size, shuffle=True)\n",
        "val_loader = DataLoader(valset, batch_size=batch_size, shuffle=True)\n",
        "testset = datasets.ImageFolder(root=test_dir, transform=transform)\n",
        "test_loader = DataLoader(testset, batch_size=1, shuffle=False)"
      ],
      "metadata": {
        "id": "RjI2J7zQYXyp"
      },
      "execution_count": null,
      "outputs": []
    },
    {
      "cell_type": "code",
      "source": [
        "from torch.utils.data import ConcatDataset\n",
        "full_train_dataset = ConcatDataset([trainset, valset])\n",
        "full_train_loader = DataLoader(full_train_dataset, batch_size=32, shuffle=True)"
      ],
      "metadata": {
        "id": "LXtRJY_Lz8kx"
      },
      "execution_count": null,
      "outputs": []
    },
    {
      "cell_type": "code",
      "source": [
        "train_model = False\n",
        "print('Running on:', device)\n",
        "if train_model:\n",
        "    loss, acc, vloss, vacc = train(full_train_loader, val_loader=None)\n",
        "    plot_train(loss, acc, vloss, vacc)\n",
        "    torch.save(model.state_dict(), save_path)\n",
        "else:\n",
        "    model.load_state_dict(torch.load(save_path))\n",
        "    loss, acc, cm = test(test_loader, pm=True, confusion_mat=True)\n",
        "    plot_test(loss, acc, cm)\n"
      ],
      "metadata": {
        "id": "j2R_NhIh7d9y",
        "colab": {
          "base_uri": "https://localhost:8080/",
          "height": 557
        },
        "outputId": "7c03af4c-cbe1-40f4-e9b0-7f48df148995"
      },
      "execution_count": null,
      "outputs": [
        {
          "output_type": "stream",
          "name": "stdout",
          "text": [
            "Running on: cuda\n",
            "Test Loss: 0.7901, Accuracy: 79.01%\n"
          ]
        },
        {
          "output_type": "display_data",
          "data": {
            "text/plain": [
              "<Figure size 800x600 with 2 Axes>"
            ],
            "image/png": "[encoded data removed]"
          },
          "metadata": {}
        }
      ]
    }
  ]
}